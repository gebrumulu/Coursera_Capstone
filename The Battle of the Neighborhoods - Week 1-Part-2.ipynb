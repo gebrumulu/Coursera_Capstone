{
 "cells": [
  {
   "cell_type": "markdown",
   "metadata": {},
   "source": [
    "## The Battle of the Neighborhoods - Week 1 - Part-2"
   ]
  },
  {
   "cell_type": "markdown",
   "metadata": {},
   "source": [
    "### A description of the data and how it will be used to solve the problem"
   ]
  },
  {
   "cell_type": "markdown",
   "metadata": {},
   "source": [
    "### Data :"
   ]
  },
  {
   "cell_type": "markdown",
   "metadata": {},
   "source": [
    "One city will be analyzed in this project: New York City."
   ]
  },
  {
   "cell_type": "markdown",
   "metadata": {},
   "source": [
    "### We will be using the following datasets for analysing Newyork city"
   ]
  },
  {
   "cell_type": "markdown",
   "metadata": {},
   "source": [
    "### Data 1:\n",
    "Neighborhood has a total of 5 boroughs and 306 neighborhoods. In order to segement the neighborhoods and explore them, we will essentially need a dataset that contains the 5 boroughs and the neighborhoods that exist in each borough as well as the the latitude and logitude coordinates of each neighborhood.\n",
    "This dataset exists for free on the web. Link to the dataset is :     \n",
    "https://geo.nyu.edu/catalog/nyu_2451_34572\n"
   ]
  },
  {
   "cell_type": "markdown",
   "metadata": {},
   "source": [
    "### Data 2: \n",
    "For the New York Population, New York City Demographics, description of Boroughs and analysis we will get data from wikipedia as given below : \n",
    "\n",
    "https://en.wikipedia.org/wiki/Boroughs_of_New_York_City\n",
    "https://en.wikipedia.org/wiki/New_York_City \n",
    "https://en.wikipedia.org/wiki/Economy_of_New_York_City \n",
    "https://en.wikipedia.org/wiki/Portal:New_York_City  \n",
    "https://en.wikipedia.org/wiki/List_of_Michelin_starred_restaurants_in_New_York_City\n"
   ]
  },
  {
   "cell_type": "markdown",
   "metadata": {},
   "source": [
    "### Data 3: \n",
    "New York city geographical coordinates data will be utilized as input for the Foursquare API, that will be leveraged to provision venues information for each neighborhood. We will use the Foursquare API to explore neighborhoods in New York City.  I will construct a URL to send a request to the API to search for a specific type of venues, to explore a particular venue, to explore a geographical location, to get trending venues around a location and distribution of other Ethiopian restaurants in different Boroughs. Also, I will use the visualization library, Folium, to visualize the results.\n",
    "\n",
    "https://foursquare.com/developers/apps\n"
   ]
  },
  {
   "cell_type": "markdown",
   "metadata": {},
   "source": [
    "### Data 4: \n",
    "The recommended Restaurant location needs to be with less completion from Ethiopian restaurants and have many shopping venues nearby. Convenient public transport is also required. These data can also be found by using FourSquare API.\n",
    "\n",
    "https://foursquare.com/developers/apps\n",
    "\n",
    "So based on the above data I will develop a model to cluster the Boroughs/Neighborhoods and recommend a specific location for opening the new Ethiopian restaurant.\n"
   ]
  },
  {
   "cell_type": "code",
   "execution_count": null,
   "metadata": {},
   "outputs": [],
   "source": []
  },
  {
   "cell_type": "code",
   "execution_count": null,
   "metadata": {},
   "outputs": [],
   "source": []
  }
 ],
 "metadata": {
  "kernelspec": {
   "display_name": "Python 3",
   "language": "python",
   "name": "python3"
  },
  "language_info": {
   "codemirror_mode": {
    "name": "ipython",
    "version": 3
   },
   "file_extension": ".py",
   "mimetype": "text/x-python",
   "name": "python",
   "nbconvert_exporter": "python",
   "pygments_lexer": "ipython3",
   "version": "3.6.7"
  }
 },
 "nbformat": 4,
 "nbformat_minor": 4
}
